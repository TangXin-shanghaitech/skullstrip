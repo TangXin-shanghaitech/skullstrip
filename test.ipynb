{
 "cells": [
  {
   "cell_type": "code",
   "execution_count": 7,
   "id": "cea224dc",
   "metadata": {},
   "outputs": [
    {
     "name": "stdout",
     "output_type": "stream",
     "text": [
      "3.7.11 (default, Jul 27 2021, 09:42:29) [MSC v.1916 64 bit (AMD64)]\n",
      "C:\\Users\\tangx\\Anaconda3\\envs\\stripskull\\python.exe\n"
     ]
    }
   ],
   "source": [
    "import sys\n",
    "import nibabel as nib\n",
    "import SimpleITK as sitk\n",
    "print(sys.version)\n",
    "print(sys.executable)\n",
    "\n",
    "\n"
   ]
  },
  {
   "cell_type": "code",
   "execution_count": 10,
   "id": "3b279e73",
   "metadata": {},
   "outputs": [],
   "source": [
    "imgpath = r'C:\\Users\\tangx\\Desktop\\old6\\NDAR_V06-1_IBIS0036\\intensity.nii.gz'\n",
    "strippath =  r'C:\\Users\\tangx\\Desktop\\old6\\NDAR_V06-1_IBIS0036\\strip.nii.gz'"
   ]
  },
  {
   "cell_type": "code",
   "execution_count": 13,
   "id": "184e1f50",
   "metadata": {},
   "outputs": [],
   "source": [
    "# 读取数据\n",
    "img = sitk.ReadImage(imgpath)\n",
    "img_array = sitk.GetArrayFromImage(img)\n",
    "# 获取array\n",
    "strip = sitk.ReadImage(strippath)\n",
    "strip_array = sitk.GetArrayFromImage(strip)\n",
    "# 去除颅骨array\n",
    "newimg_array = img_array * strip_array\n",
    "\n",
    "# 将newimg_array还原成nii数据结构\n",
    "newimg = sitk.GetImageFromArray(newimg_array)\n",
    "# 从img 获取还原所需要信息\n",
    "space = img.GetSpacing()\n",
    "direct = img.GetDirection()\n",
    "original = img.GetOrigin()\n",
    "# 还原\n",
    "newimg.SetDirection(direct)\n",
    "newimg.SetSpacing(space)\n",
    "newimg.SetOrigin(original)\n",
    "# 写文件\n",
    "sitk.WriteImage(newimg, r'C:\\Users\\tangx\\Desktop\\new6\\NDAR_V06-1_IBIS0036\\intensity.nii.gz')\n",
    "\n",
    "\n",
    "\n",
    "\n",
    "\n",
    "\n"
   ]
  },
  {
   "cell_type": "code",
   "execution_count": null,
   "id": "9098c473",
   "metadata": {},
   "outputs": [],
   "source": []
  }
 ],
 "metadata": {
  "kernelspec": {
   "display_name": "Python 3 (ipykernel)",
   "language": "python",
   "name": "python3"
  },
  "language_info": {
   "codemirror_mode": {
    "name": "ipython",
    "version": 3
   },
   "file_extension": ".py",
   "mimetype": "text/x-python",
   "name": "python",
   "nbconvert_exporter": "python",
   "pygments_lexer": "ipython3",
   "version": "3.7.11"
  }
 },
 "nbformat": 4,
 "nbformat_minor": 5
}
